{
 "cells": [
  {
   "cell_type": "markdown",
   "id": "cf238918",
   "metadata": {},
   "source": [
    "# Data Preprocessing"
   ]
  },
  {
   "cell_type": "code",
   "execution_count": 1,
   "id": "611d7b75",
   "metadata": {},
   "outputs": [
    {
     "name": "stdout",
     "output_type": "stream",
     "text": [
      "Loading transactions CSV...\n",
      "Transactions CSV loaded successfully.\n",
      "Users CSV loaded successfully.\n",
      "Cards CSV loaded successfully.\n"
     ]
    },
    {
     "name": "stderr",
     "output_type": "stream",
     "text": [
      "                                                                                                    \r"
     ]
    },
    {
     "name": "stdout",
     "output_type": "stream",
     "text": [
      "Preprocessing transactions completed.\n",
      "Preprocessing users completed.\n",
      "Preprocessing cards completed.\n",
      "Total unique nodes: 106482\n"
     ]
    }
   ],
   "source": [
    "import sys, os\n",
    "\n",
    "# Add the parent directory containing IBM_GNN to sys.path\n",
    "project_root = \"/Users/hanbeobmun/Desktop/대학원/연구실/Fraud_detection_GNN\"\n",
    "if project_root not in sys.path:\n",
    "    sys.path.append(project_root)\n",
    "\n",
    "from IBM_GNN.IBM_dataset import IBM_Dataset\n",
    "import numpy as np\n",
    "\n",
    "TRANSACTIONS_CSV_PATH = '../data/IBM_Credit_Card_Transaction/credit_card_transactions-ibm_v2.csv'\n",
    "USERS_CSV_PATH = '../data/IBM_Credit_Card_Transaction/sd254_users.csv'\n",
    "CARDS_CSV_PATH = '../data/IBM_Credit_Card_Transaction/sd254_cards.csv'\n",
    "\n",
    "try:\n",
    "    dataset = (IBM_Dataset()\n",
    "                .read_transactions_csv(TRANSACTIONS_CSV_PATH)\n",
    "                .read_users_csv(USERS_CSV_PATH)\n",
    "                .read_cards_csv(CARDS_CSV_PATH)\n",
    "                .preprocess_transactions()\n",
    "                .preprocess_users()\n",
    "                .preprocess_cards()\n",
    "                .create_node_mappings()\n",
    "                )\n",
    "except Exception as e:\n",
    "    print(f\"Error occurred: {e}\")"
   ]
  },
  {
   "cell_type": "code",
   "execution_count": 2,
   "id": "56a8cb93",
   "metadata": {},
   "outputs": [
    {
     "data": {
      "text/html": [
       "<div>\n",
       "<style scoped>\n",
       "    .dataframe tbody tr th:only-of-type {\n",
       "        vertical-align: middle;\n",
       "    }\n",
       "\n",
       "    .dataframe tbody tr th {\n",
       "        vertical-align: top;\n",
       "    }\n",
       "\n",
       "    .dataframe thead th {\n",
       "        text-align: right;\n",
       "    }\n",
       "</style>\n",
       "<table border=\"1\" class=\"dataframe\">\n",
       "  <thead>\n",
       "    <tr style=\"text-align: right;\">\n",
       "      <th></th>\n",
       "      <th>Date</th>\n",
       "      <th>isFraud</th>\n",
       "      <th>Src</th>\n",
       "      <th>Dest</th>\n",
       "      <th>Relation</th>\n",
       "      <th>Scaled_Amount</th>\n",
       "      <th>MCC_idx</th>\n",
       "      <th>Zip_idx</th>\n",
       "      <th>Use Chip_Chip Transaction</th>\n",
       "      <th>Use Chip_Online Transaction</th>\n",
       "      <th>Use Chip_Swipe Transaction</th>\n",
       "      <th>Error_Bad Expiration</th>\n",
       "      <th>Error_Technical Glitch</th>\n",
       "      <th>Error_Bad PIN</th>\n",
       "      <th>Error_Bad CVV</th>\n",
       "      <th>Error_Insufficient Balance</th>\n",
       "      <th>Error_Bad Zipcode</th>\n",
       "      <th>Error_Bad Card Number</th>\n",
       "    </tr>\n",
       "  </thead>\n",
       "  <tbody>\n",
       "    <tr>\n",
       "      <th>0</th>\n",
       "      <td>1991-01-02</td>\n",
       "      <td>0</td>\n",
       "      <td>791_1</td>\n",
       "      <td>2027553650310142703</td>\n",
       "      <td>transaction</td>\n",
       "      <td>0.449253</td>\n",
       "      <td>0</td>\n",
       "      <td>0</td>\n",
       "      <td>0.0</td>\n",
       "      <td>0.0</td>\n",
       "      <td>1.0</td>\n",
       "      <td>0.0</td>\n",
       "      <td>0.0</td>\n",
       "      <td>0.0</td>\n",
       "      <td>0.0</td>\n",
       "      <td>0.0</td>\n",
       "      <td>0.0</td>\n",
       "      <td>0.0</td>\n",
       "    </tr>\n",
       "    <tr>\n",
       "      <th>1</th>\n",
       "      <td>1991-01-02</td>\n",
       "      <td>0</td>\n",
       "      <td>2027553650310142703</td>\n",
       "      <td>791_1</td>\n",
       "      <td>refund</td>\n",
       "      <td>0.449253</td>\n",
       "      <td>0</td>\n",
       "      <td>0</td>\n",
       "      <td>0.0</td>\n",
       "      <td>0.0</td>\n",
       "      <td>1.0</td>\n",
       "      <td>0.0</td>\n",
       "      <td>0.0</td>\n",
       "      <td>0.0</td>\n",
       "      <td>0.0</td>\n",
       "      <td>0.0</td>\n",
       "      <td>0.0</td>\n",
       "      <td>0.0</td>\n",
       "    </tr>\n",
       "    <tr>\n",
       "      <th>2</th>\n",
       "      <td>1991-01-02</td>\n",
       "      <td>0</td>\n",
       "      <td>791_1</td>\n",
       "      <td>2027553650310142703</td>\n",
       "      <td>transaction</td>\n",
       "      <td>0.503102</td>\n",
       "      <td>0</td>\n",
       "      <td>0</td>\n",
       "      <td>0.0</td>\n",
       "      <td>0.0</td>\n",
       "      <td>1.0</td>\n",
       "      <td>0.0</td>\n",
       "      <td>0.0</td>\n",
       "      <td>0.0</td>\n",
       "      <td>0.0</td>\n",
       "      <td>0.0</td>\n",
       "      <td>0.0</td>\n",
       "      <td>0.0</td>\n",
       "    </tr>\n",
       "    <tr>\n",
       "      <th>3</th>\n",
       "      <td>1991-01-02</td>\n",
       "      <td>0</td>\n",
       "      <td>791_1</td>\n",
       "      <td>-7269691894846892021</td>\n",
       "      <td>transaction</td>\n",
       "      <td>0.504125</td>\n",
       "      <td>1</td>\n",
       "      <td>0</td>\n",
       "      <td>0.0</td>\n",
       "      <td>0.0</td>\n",
       "      <td>1.0</td>\n",
       "      <td>0.0</td>\n",
       "      <td>0.0</td>\n",
       "      <td>0.0</td>\n",
       "      <td>0.0</td>\n",
       "      <td>0.0</td>\n",
       "      <td>0.0</td>\n",
       "      <td>0.0</td>\n",
       "    </tr>\n",
       "    <tr>\n",
       "      <th>4</th>\n",
       "      <td>1991-01-03</td>\n",
       "      <td>0</td>\n",
       "      <td>791_1</td>\n",
       "      <td>-3693650930986299431</td>\n",
       "      <td>transaction</td>\n",
       "      <td>0.586990</td>\n",
       "      <td>2</td>\n",
       "      <td>0</td>\n",
       "      <td>0.0</td>\n",
       "      <td>0.0</td>\n",
       "      <td>1.0</td>\n",
       "      <td>0.0</td>\n",
       "      <td>0.0</td>\n",
       "      <td>0.0</td>\n",
       "      <td>0.0</td>\n",
       "      <td>0.0</td>\n",
       "      <td>0.0</td>\n",
       "      <td>0.0</td>\n",
       "    </tr>\n",
       "    <tr>\n",
       "      <th>...</th>\n",
       "      <td>...</td>\n",
       "      <td>...</td>\n",
       "      <td>...</td>\n",
       "      <td>...</td>\n",
       "      <td>...</td>\n",
       "      <td>...</td>\n",
       "      <td>...</td>\n",
       "      <td>...</td>\n",
       "      <td>...</td>\n",
       "      <td>...</td>\n",
       "      <td>...</td>\n",
       "      <td>...</td>\n",
       "      <td>...</td>\n",
       "      <td>...</td>\n",
       "      <td>...</td>\n",
       "      <td>...</td>\n",
       "      <td>...</td>\n",
       "      <td>...</td>\n",
       "    </tr>\n",
       "    <tr>\n",
       "      <th>24386895</th>\n",
       "      <td>2020-02-28</td>\n",
       "      <td>0</td>\n",
       "      <td>1659_2</td>\n",
       "      <td>7231700044622779845</td>\n",
       "      <td>transaction</td>\n",
       "      <td>0.229169</td>\n",
       "      <td>14</td>\n",
       "      <td>7040</td>\n",
       "      <td>1.0</td>\n",
       "      <td>0.0</td>\n",
       "      <td>0.0</td>\n",
       "      <td>0.0</td>\n",
       "      <td>0.0</td>\n",
       "      <td>0.0</td>\n",
       "      <td>0.0</td>\n",
       "      <td>0.0</td>\n",
       "      <td>0.0</td>\n",
       "      <td>0.0</td>\n",
       "    </tr>\n",
       "    <tr>\n",
       "      <th>24386896</th>\n",
       "      <td>2020-02-28</td>\n",
       "      <td>0</td>\n",
       "      <td>863_1</td>\n",
       "      <td>7654254764356253071</td>\n",
       "      <td>transaction</td>\n",
       "      <td>0.415206</td>\n",
       "      <td>10</td>\n",
       "      <td>12443</td>\n",
       "      <td>1.0</td>\n",
       "      <td>0.0</td>\n",
       "      <td>0.0</td>\n",
       "      <td>0.0</td>\n",
       "      <td>0.0</td>\n",
       "      <td>0.0</td>\n",
       "      <td>0.0</td>\n",
       "      <td>0.0</td>\n",
       "      <td>0.0</td>\n",
       "      <td>0.0</td>\n",
       "    </tr>\n",
       "    <tr>\n",
       "      <th>24386897</th>\n",
       "      <td>2020-02-28</td>\n",
       "      <td>0</td>\n",
       "      <td>1366_2</td>\n",
       "      <td>-7398558035733466800</td>\n",
       "      <td>transaction</td>\n",
       "      <td>0.519464</td>\n",
       "      <td>5</td>\n",
       "      <td>12809</td>\n",
       "      <td>1.0</td>\n",
       "      <td>0.0</td>\n",
       "      <td>0.0</td>\n",
       "      <td>0.0</td>\n",
       "      <td>0.0</td>\n",
       "      <td>0.0</td>\n",
       "      <td>0.0</td>\n",
       "      <td>0.0</td>\n",
       "      <td>0.0</td>\n",
       "      <td>0.0</td>\n",
       "    </tr>\n",
       "    <tr>\n",
       "      <th>24386898</th>\n",
       "      <td>2020-02-28</td>\n",
       "      <td>0</td>\n",
       "      <td>1300_0</td>\n",
       "      <td>-6458444334611773637</td>\n",
       "      <td>transaction</td>\n",
       "      <td>0.419831</td>\n",
       "      <td>97</td>\n",
       "      <td>29</td>\n",
       "      <td>0.0</td>\n",
       "      <td>1.0</td>\n",
       "      <td>0.0</td>\n",
       "      <td>0.0</td>\n",
       "      <td>0.0</td>\n",
       "      <td>0.0</td>\n",
       "      <td>0.0</td>\n",
       "      <td>0.0</td>\n",
       "      <td>0.0</td>\n",
       "      <td>0.0</td>\n",
       "    </tr>\n",
       "    <tr>\n",
       "      <th>24386899</th>\n",
       "      <td>2020-02-28</td>\n",
       "      <td>0</td>\n",
       "      <td>446_3</td>\n",
       "      <td>-7421093378627544099</td>\n",
       "      <td>transaction</td>\n",
       "      <td>0.399789</td>\n",
       "      <td>3</td>\n",
       "      <td>29</td>\n",
       "      <td>0.0</td>\n",
       "      <td>1.0</td>\n",
       "      <td>0.0</td>\n",
       "      <td>0.0</td>\n",
       "      <td>0.0</td>\n",
       "      <td>0.0</td>\n",
       "      <td>0.0</td>\n",
       "      <td>0.0</td>\n",
       "      <td>0.0</td>\n",
       "      <td>0.0</td>\n",
       "    </tr>\n",
       "  </tbody>\n",
       "</table>\n",
       "<p>24386900 rows × 18 columns</p>\n",
       "</div>"
      ],
      "text/plain": [
       "               Date  isFraud                  Src                  Dest  \\\n",
       "0        1991-01-02        0                791_1   2027553650310142703   \n",
       "1        1991-01-02        0  2027553650310142703                 791_1   \n",
       "2        1991-01-02        0                791_1   2027553650310142703   \n",
       "3        1991-01-02        0                791_1  -7269691894846892021   \n",
       "4        1991-01-03        0                791_1  -3693650930986299431   \n",
       "...             ...      ...                  ...                   ...   \n",
       "24386895 2020-02-28        0               1659_2   7231700044622779845   \n",
       "24386896 2020-02-28        0                863_1   7654254764356253071   \n",
       "24386897 2020-02-28        0               1366_2  -7398558035733466800   \n",
       "24386898 2020-02-28        0               1300_0  -6458444334611773637   \n",
       "24386899 2020-02-28        0                446_3  -7421093378627544099   \n",
       "\n",
       "             Relation  Scaled_Amount  MCC_idx  Zip_idx  \\\n",
       "0         transaction       0.449253        0        0   \n",
       "1              refund       0.449253        0        0   \n",
       "2         transaction       0.503102        0        0   \n",
       "3         transaction       0.504125        1        0   \n",
       "4         transaction       0.586990        2        0   \n",
       "...               ...            ...      ...      ...   \n",
       "24386895  transaction       0.229169       14     7040   \n",
       "24386896  transaction       0.415206       10    12443   \n",
       "24386897  transaction       0.519464        5    12809   \n",
       "24386898  transaction       0.419831       97       29   \n",
       "24386899  transaction       0.399789        3       29   \n",
       "\n",
       "          Use Chip_Chip Transaction  Use Chip_Online Transaction  \\\n",
       "0                               0.0                          0.0   \n",
       "1                               0.0                          0.0   \n",
       "2                               0.0                          0.0   \n",
       "3                               0.0                          0.0   \n",
       "4                               0.0                          0.0   \n",
       "...                             ...                          ...   \n",
       "24386895                        1.0                          0.0   \n",
       "24386896                        1.0                          0.0   \n",
       "24386897                        1.0                          0.0   \n",
       "24386898                        0.0                          1.0   \n",
       "24386899                        0.0                          1.0   \n",
       "\n",
       "          Use Chip_Swipe Transaction  Error_Bad Expiration  \\\n",
       "0                                1.0                   0.0   \n",
       "1                                1.0                   0.0   \n",
       "2                                1.0                   0.0   \n",
       "3                                1.0                   0.0   \n",
       "4                                1.0                   0.0   \n",
       "...                              ...                   ...   \n",
       "24386895                         0.0                   0.0   \n",
       "24386896                         0.0                   0.0   \n",
       "24386897                         0.0                   0.0   \n",
       "24386898                         0.0                   0.0   \n",
       "24386899                         0.0                   0.0   \n",
       "\n",
       "          Error_Technical Glitch  Error_Bad PIN  Error_Bad CVV  \\\n",
       "0                            0.0            0.0            0.0   \n",
       "1                            0.0            0.0            0.0   \n",
       "2                            0.0            0.0            0.0   \n",
       "3                            0.0            0.0            0.0   \n",
       "4                            0.0            0.0            0.0   \n",
       "...                          ...            ...            ...   \n",
       "24386895                     0.0            0.0            0.0   \n",
       "24386896                     0.0            0.0            0.0   \n",
       "24386897                     0.0            0.0            0.0   \n",
       "24386898                     0.0            0.0            0.0   \n",
       "24386899                     0.0            0.0            0.0   \n",
       "\n",
       "          Error_Insufficient Balance  Error_Bad Zipcode  Error_Bad Card Number  \n",
       "0                                0.0                0.0                    0.0  \n",
       "1                                0.0                0.0                    0.0  \n",
       "2                                0.0                0.0                    0.0  \n",
       "3                                0.0                0.0                    0.0  \n",
       "4                                0.0                0.0                    0.0  \n",
       "...                              ...                ...                    ...  \n",
       "24386895                         0.0                0.0                    0.0  \n",
       "24386896                         0.0                0.0                    0.0  \n",
       "24386897                         0.0                0.0                    0.0  \n",
       "24386898                         0.0                0.0                    0.0  \n",
       "24386899                         0.0                0.0                    0.0  \n",
       "\n",
       "[24386900 rows x 18 columns]"
      ]
     },
     "execution_count": 2,
     "metadata": {},
     "output_type": "execute_result"
    }
   ],
   "source": [
    "dataset.edge_transactions"
   ]
  },
  {
   "cell_type": "code",
   "execution_count": 2,
   "id": "ccbac885",
   "metadata": {},
   "outputs": [
    {
     "data": {
      "text/html": [
       "<div>\n",
       "<style scoped>\n",
       "    .dataframe tbody tr th:only-of-type {\n",
       "        vertical-align: middle;\n",
       "    }\n",
       "\n",
       "    .dataframe tbody tr th {\n",
       "        vertical-align: top;\n",
       "    }\n",
       "\n",
       "    .dataframe thead th {\n",
       "        text-align: right;\n",
       "    }\n",
       "</style>\n",
       "<table border=\"1\" class=\"dataframe\">\n",
       "  <thead>\n",
       "    <tr style=\"text-align: right;\">\n",
       "      <th></th>\n",
       "      <th>Relation_refund</th>\n",
       "      <th>Relation_transaction</th>\n",
       "      <th>Date</th>\n",
       "      <th>isFraud</th>\n",
       "      <th>Src</th>\n",
       "      <th>Dest</th>\n",
       "      <th>Scaled_Amount</th>\n",
       "      <th>MCC_idx</th>\n",
       "      <th>Zip_idx</th>\n",
       "      <th>Use Chip_Chip Transaction</th>\n",
       "      <th>Use Chip_Online Transaction</th>\n",
       "      <th>Use Chip_Swipe Transaction</th>\n",
       "      <th>Error_Bad Card Number</th>\n",
       "      <th>Error_Bad Zipcode</th>\n",
       "      <th>Error_Technical Glitch</th>\n",
       "      <th>Error_Bad PIN</th>\n",
       "      <th>Error_Insufficient Balance</th>\n",
       "      <th>Error_Bad Expiration</th>\n",
       "      <th>Error_Bad CVV</th>\n",
       "    </tr>\n",
       "  </thead>\n",
       "  <tbody>\n",
       "    <tr>\n",
       "      <th>0</th>\n",
       "      <td>0.0</td>\n",
       "      <td>1.0</td>\n",
       "      <td>1991-01-02</td>\n",
       "      <td>0</td>\n",
       "      <td>791_1</td>\n",
       "      <td>2027553650310142703</td>\n",
       "      <td>0.449253</td>\n",
       "      <td>0</td>\n",
       "      <td>0</td>\n",
       "      <td>0.0</td>\n",
       "      <td>0.0</td>\n",
       "      <td>1.0</td>\n",
       "      <td>0.0</td>\n",
       "      <td>0.0</td>\n",
       "      <td>0.0</td>\n",
       "      <td>0.0</td>\n",
       "      <td>0.0</td>\n",
       "      <td>0.0</td>\n",
       "      <td>0.0</td>\n",
       "    </tr>\n",
       "    <tr>\n",
       "      <th>1</th>\n",
       "      <td>1.0</td>\n",
       "      <td>0.0</td>\n",
       "      <td>1991-01-02</td>\n",
       "      <td>0</td>\n",
       "      <td>2027553650310142703</td>\n",
       "      <td>791_1</td>\n",
       "      <td>0.449253</td>\n",
       "      <td>0</td>\n",
       "      <td>0</td>\n",
       "      <td>0.0</td>\n",
       "      <td>0.0</td>\n",
       "      <td>1.0</td>\n",
       "      <td>0.0</td>\n",
       "      <td>0.0</td>\n",
       "      <td>0.0</td>\n",
       "      <td>0.0</td>\n",
       "      <td>0.0</td>\n",
       "      <td>0.0</td>\n",
       "      <td>0.0</td>\n",
       "    </tr>\n",
       "    <tr>\n",
       "      <th>2</th>\n",
       "      <td>0.0</td>\n",
       "      <td>1.0</td>\n",
       "      <td>1991-01-02</td>\n",
       "      <td>0</td>\n",
       "      <td>791_1</td>\n",
       "      <td>2027553650310142703</td>\n",
       "      <td>0.503102</td>\n",
       "      <td>0</td>\n",
       "      <td>0</td>\n",
       "      <td>0.0</td>\n",
       "      <td>0.0</td>\n",
       "      <td>1.0</td>\n",
       "      <td>0.0</td>\n",
       "      <td>0.0</td>\n",
       "      <td>0.0</td>\n",
       "      <td>0.0</td>\n",
       "      <td>0.0</td>\n",
       "      <td>0.0</td>\n",
       "      <td>0.0</td>\n",
       "    </tr>\n",
       "    <tr>\n",
       "      <th>3</th>\n",
       "      <td>0.0</td>\n",
       "      <td>1.0</td>\n",
       "      <td>1991-01-02</td>\n",
       "      <td>0</td>\n",
       "      <td>791_1</td>\n",
       "      <td>-7269691894846892021</td>\n",
       "      <td>0.504125</td>\n",
       "      <td>1</td>\n",
       "      <td>0</td>\n",
       "      <td>0.0</td>\n",
       "      <td>0.0</td>\n",
       "      <td>1.0</td>\n",
       "      <td>0.0</td>\n",
       "      <td>0.0</td>\n",
       "      <td>0.0</td>\n",
       "      <td>0.0</td>\n",
       "      <td>0.0</td>\n",
       "      <td>0.0</td>\n",
       "      <td>0.0</td>\n",
       "    </tr>\n",
       "    <tr>\n",
       "      <th>4</th>\n",
       "      <td>0.0</td>\n",
       "      <td>1.0</td>\n",
       "      <td>1991-01-03</td>\n",
       "      <td>0</td>\n",
       "      <td>791_1</td>\n",
       "      <td>-3693650930986299431</td>\n",
       "      <td>0.586990</td>\n",
       "      <td>2</td>\n",
       "      <td>0</td>\n",
       "      <td>0.0</td>\n",
       "      <td>0.0</td>\n",
       "      <td>1.0</td>\n",
       "      <td>0.0</td>\n",
       "      <td>0.0</td>\n",
       "      <td>0.0</td>\n",
       "      <td>0.0</td>\n",
       "      <td>0.0</td>\n",
       "      <td>0.0</td>\n",
       "      <td>0.0</td>\n",
       "    </tr>\n",
       "  </tbody>\n",
       "</table>\n",
       "</div>"
      ],
      "text/plain": [
       "   Relation_refund  Relation_transaction       Date  isFraud  \\\n",
       "0              0.0                   1.0 1991-01-02        0   \n",
       "1              1.0                   0.0 1991-01-02        0   \n",
       "2              0.0                   1.0 1991-01-02        0   \n",
       "3              0.0                   1.0 1991-01-02        0   \n",
       "4              0.0                   1.0 1991-01-03        0   \n",
       "\n",
       "                   Src                  Dest  Scaled_Amount  MCC_idx  Zip_idx  \\\n",
       "0                791_1   2027553650310142703       0.449253        0        0   \n",
       "1  2027553650310142703                 791_1       0.449253        0        0   \n",
       "2                791_1   2027553650310142703       0.503102        0        0   \n",
       "3                791_1  -7269691894846892021       0.504125        1        0   \n",
       "4                791_1  -3693650930986299431       0.586990        2        0   \n",
       "\n",
       "   Use Chip_Chip Transaction  Use Chip_Online Transaction  \\\n",
       "0                        0.0                          0.0   \n",
       "1                        0.0                          0.0   \n",
       "2                        0.0                          0.0   \n",
       "3                        0.0                          0.0   \n",
       "4                        0.0                          0.0   \n",
       "\n",
       "   Use Chip_Swipe Transaction  Error_Bad Card Number  Error_Bad Zipcode  \\\n",
       "0                         1.0                    0.0                0.0   \n",
       "1                         1.0                    0.0                0.0   \n",
       "2                         1.0                    0.0                0.0   \n",
       "3                         1.0                    0.0                0.0   \n",
       "4                         1.0                    0.0                0.0   \n",
       "\n",
       "   Error_Technical Glitch  Error_Bad PIN  Error_Insufficient Balance  \\\n",
       "0                     0.0            0.0                         0.0   \n",
       "1                     0.0            0.0                         0.0   \n",
       "2                     0.0            0.0                         0.0   \n",
       "3                     0.0            0.0                         0.0   \n",
       "4                     0.0            0.0                         0.0   \n",
       "\n",
       "   Error_Bad Expiration  Error_Bad CVV  \n",
       "0                   0.0            0.0  \n",
       "1                   0.0            0.0  \n",
       "2                   0.0            0.0  \n",
       "3                   0.0            0.0  \n",
       "4                   0.0            0.0  "
      ]
     },
     "execution_count": 2,
     "metadata": {},
     "output_type": "execute_result"
    }
   ],
   "source": [
    "import pandas as pd\n",
    "import numpy as np\n",
    "from sklearn.preprocessing import OneHotEncoder\n",
    "from sklearn.metrics import roc_auc_score, average_precision_score, precision_recall_curve, auc, f1_score\n",
    "\n",
    "edge_transactions = dataset.edge_transactions\n",
    "onehot_encoder = OneHotEncoder(sparse_output=False, handle_unknown='ignore')\n",
    "relation_onehot = onehot_encoder.fit_transform(edge_transactions[['Relation']])\n",
    "relation_types = onehot_encoder.get_feature_names_out(['Relation'])\n",
    "relation_df = pd.DataFrame(relation_onehot, columns=relation_types, index=edge_transactions.index)\n",
    "edge_transactions = pd.concat([relation_df, edge_transactions], axis=1)\n",
    "edge_transactions = edge_transactions.drop(columns=['Relation'])\n",
    "edge_transactions.head()"
   ]
  },
  {
   "cell_type": "code",
   "execution_count": 3,
   "id": "64e1681c",
   "metadata": {},
   "outputs": [],
   "source": [
    "def get_edge_transactions(edge_transactions, start_date=None, end_date=None):\n",
    "    if edge_transactions is None:\n",
    "        raise ValueError(\"Edge transactions dataframe is not loaded. Please call read_transactions_csv() and preprocess_transactions() first.\")\n",
    "    if start_date is not None and end_date is not None:\n",
    "        if pd.to_datetime(start_date) == pd.to_datetime(end_date):\n",
    "            mask = (edge_transactions['Date'] == pd.to_datetime(start_date))\n",
    "            return edge_transactions.loc[mask].reset_index(drop=True)\n",
    "        else:\n",
    "            mask = (edge_transactions['Date'] >= pd.to_datetime(start_date)) & (edge_transactions['Date'] < pd.to_datetime(end_date))\n",
    "            return edge_transactions.loc[mask].reset_index(drop=True)\n",
    "    elif start_date is not None and end_date is None:\n",
    "        mask = (edge_transactions['Date'] >= pd.to_datetime(start_date))\n",
    "        return edge_transactions.loc[mask].reset_index(drop=True)\n",
    "    elif start_date is None and end_date is not None:\n",
    "        mask = (edge_transactions['Date'] < pd.to_datetime(end_date))\n",
    "        return edge_transactions.loc[mask].reset_index(drop=True)\n",
    "    else:\n",
    "        return edge_transactions"
   ]
  },
  {
   "cell_type": "code",
   "execution_count": 4,
   "id": "b9207274",
   "metadata": {},
   "outputs": [
    {
     "name": "stdout",
     "output_type": "stream",
     "text": [
      "2005-08-07 00:00:00 2005-08-07 00:00:00 2010-05-27 00:00:00\n",
      "2008-01-01 00:00:00 2008-01-01 00:00:00 2012-10-19 00:00:00\n",
      "2010-05-27 00:00:00 2010-05-27 00:00:00 2015-03-15 00:00:00\n",
      "2012-10-19 00:00:00 2012-10-19 00:00:00 2017-08-08 00:00:00\n",
      "2015-03-15 00:00:00 2015-03-15 00:00:00 2020-01-01 00:00:00\n"
     ]
    }
   ],
   "source": [
    "start_date = '1996-01-01'\n",
    "end_date = '2020-01-01'\n",
    "\n",
    "days = pd.date_range(start=start_date, end=end_date, freq='D')\n",
    "train_data, test_data = [], []\n",
    "s = 0.4\n",
    "for i in range(5):\n",
    "    t_e = int(len(days) * s)\n",
    "    train_end_date = days[t_e]\n",
    "    test_start_date = days[t_e]\n",
    "    test_end_date = days[min(int(len(days)*(s+0.2)), len(days)-1)]\n",
    "    print(train_end_date, test_start_date, test_end_date)\n",
    "    train_d = get_edge_transactions(edge_transactions, end_date=train_end_date)\n",
    "    test_d = get_edge_transactions(edge_transactions, start_date=test_start_date, end_date=test_end_date)\n",
    "    train_data.append(train_d)\n",
    "    test_data.append(test_d)\n",
    "    s += 0.1"
   ]
  },
  {
   "cell_type": "code",
   "execution_count": 23,
   "id": "7a47097d",
   "metadata": {},
   "outputs": [],
   "source": [
    "import torch\n",
    "\n",
    "class Dataset(torch.utils.data.Dataset):\n",
    "    def __init__(self, transactions):\n",
    "        self.mcc_idx = torch.tensor(transactions[['MCC_idx']].values, dtype=torch.long)\n",
    "        self.zip_idx = torch.tensor(transactions[['Zip_idx']].values, dtype=torch.long)\n",
    "        self.transaction = torch.tensor(transactions.drop(columns=['Src', 'Dest', 'MCC_idx', 'Zip_idx', 'Date', 'isFraud']).values, dtype=torch.float)\n",
    "        self.label = torch.tensor(transactions['isFraud'].values, dtype=torch.float).unsqueeze(1)\n",
    "    \n",
    "    def __len__(self):\n",
    "        return len(self.label)\n",
    "    \n",
    "    def __getitem__(self, idx):\n",
    "        return self.transaction[idx], self.mcc_idx[idx], self.zip_idx[idx], self.label[idx]\n"
   ]
  },
  {
   "cell_type": "markdown",
   "id": "925c18e2",
   "metadata": {},
   "source": [
    "# DNN"
   ]
  },
  {
   "cell_type": "markdown",
   "id": "0c7c2295",
   "metadata": {},
   "source": [
    "## Model Architecture"
   ]
  },
  {
   "cell_type": "code",
   "execution_count": 24,
   "id": "725f0f7b",
   "metadata": {},
   "outputs": [],
   "source": [
    "import torch\n",
    "import torch.nn as nn\n",
    "import torch.nn.functional as F\n",
    "\n",
    "class DNN(nn.Module):\n",
    "    def __init__(self, transactions_dim, zip_emb_dim, mcc_emb_dim, num_zip_idx, num_mcc_idx):\n",
    "        super(DNN, self).__init__()\n",
    "        self.zip_embedding = nn.Embedding(num_zip_idx, zip_emb_dim)\n",
    "        self.mcc_embedding = nn.Embedding(num_mcc_idx, mcc_emb_dim)\n",
    "        self.fc1 = nn.Linear(transactions_dim + zip_emb_dim + mcc_emb_dim, 128)\n",
    "        self.fc2 = nn.Linear(128, 64)\n",
    "        self.fc3 = nn.Linear(64, 1)\n",
    "        self.dropout = nn.Dropout(0.2)\n",
    "\n",
    "    def forward(self, transactions, zip_idx, mcc_idx):\n",
    "        zip_emb = self.zip_embedding(zip_idx).squeeze(1)\n",
    "        mcc_emb = self.mcc_embedding(mcc_idx).squeeze(1)\n",
    "        x = torch.cat([transactions, zip_emb, mcc_emb], dim=1)\n",
    "        x = F.relu(self.fc1(x))\n",
    "        x = F.relu(self.fc2(x))\n",
    "        x = self.dropout(x)\n",
    "        x = self.fc3(x)\n",
    "        x = torch.sigmoid(x)\n",
    "        return x"
   ]
  },
  {
   "cell_type": "code",
   "execution_count": 25,
   "id": "50d7428c",
   "metadata": {},
   "outputs": [],
   "source": [
    "class FocalLoss(nn.Module):\n",
    "    def __init__(self, alpha=0.25, gamma=2.0, reduction='mean'):\n",
    "        super().__init__()\n",
    "        self.alpha = alpha\n",
    "        self.gamma = gamma\n",
    "        self.reduction = reduction\n",
    "\n",
    "    def forward(self, inputs, targets):\n",
    "        bce_loss = F.binary_cross_entropy(inputs, targets, reduction='none')\n",
    "        inputs = torch.clamp(inputs, min=1e-7, max=1 - 1e-7)\n",
    "        pt = inputs * targets + (1 - inputs) * (1 - targets)\n",
    "        alpha_factor = self.alpha * targets + (1 - self.alpha) * (1 - targets)\n",
    "        modulating_factor = (1 - pt) ** self.gamma\n",
    "        focal_loss = alpha_factor * modulating_factor * bce_loss\n",
    "\n",
    "        if self.reduction == 'mean':\n",
    "            return focal_loss.mean()\n",
    "        elif self.reduction == 'sum':\n",
    "            return focal_loss.sum()\n",
    "        else:\n",
    "            return focal_loss"
   ]
  },
  {
   "cell_type": "markdown",
   "id": "0eb24913",
   "metadata": {},
   "source": [
    "## Train"
   ]
  },
  {
   "cell_type": "code",
   "execution_count": 26,
   "id": "2114bb67",
   "metadata": {},
   "outputs": [],
   "source": [
    "import matplotlib.pyplot as plt\n",
    "\n",
    "def plot_metrics(result):\n",
    "    # Plot train/val loss, ROC-AUC, PR-AUC side by side\n",
    "    fig, axes = plt.subplots(1, 3, figsize=(18, 4))\n",
    "\n",
    "    epochs = np.arange(1, len(result) + 1)\n",
    "\n",
    "    # Loss plot\n",
    "    axes[0].plot(epochs, result['train_loss'], label='train_loss')\n",
    "    axes[0].plot(epochs, result['val_loss'], label='val_loss')\n",
    "    axes[0].set_title('Loss')\n",
    "    axes[0].set_xlabel('Epoch')\n",
    "    axes[0].set_ylabel('Loss')\n",
    "    axes[0].legend(loc='upper left')\n",
    "    axes[0].grid(alpha=0.3)\n",
    "\n",
    "    # ROC-AUC plot\n",
    "    axes[1].plot(epochs, result['train_roc_auc'], label='train_roc_auc')\n",
    "    axes[1].plot(epochs, result['val_roc_auc'], label='val_roc_auc')\n",
    "    axes[1].set_title('ROC AUC')\n",
    "    axes[1].set_xlabel('Epoch')\n",
    "    axes[1].set_ylabel('ROC AUC')\n",
    "    axes[1].legend(loc='upper left')\n",
    "    axes[1].grid(alpha=0.3)\n",
    "    axes[1].set_ylim(0.0, 1.0)\n",
    "\n",
    "    # PR-AUC plot\n",
    "    axes[2].plot(epochs, result['train_pr_auc'], label='train_pr_auc')\n",
    "    axes[2].plot(epochs, result['val_pr_auc'], label='val_pr_auc')\n",
    "    axes[2].set_title('PR AUC (Average Precision)')\n",
    "    axes[2].set_xlabel('Epoch')\n",
    "    axes[2].set_ylabel('PR AUC')\n",
    "    axes[2].legend(loc='upper left')\n",
    "    axes[2].grid(alpha=0.3)\n",
    "    axes[2].set_ylim(0.0, 1.0)\n",
    "\n",
    "    plt.tight_layout()\n",
    "    plt.show()"
   ]
  },
  {
   "cell_type": "code",
   "execution_count": null,
   "id": "510c704a",
   "metadata": {},
   "outputs": [],
   "source": [
    "import os\n",
    "\n",
    "class EarlyStopping:\n",
    "    def __init__(self, patience=5, verbose=False, delta=0, path='DNN/checkpoint.pt', metric_name='metric'):\n",
    "        self.patience = patience\n",
    "        self.verbose = verbose\n",
    "        self.counter = 0\n",
    "        self.best_score = None\n",
    "        self.early_stop = False\n",
    "        self.delta = delta\n",
    "        self.path = path\n",
    "        self.metric_name = metric_name\n",
    "\n",
    "    def __call__(self, val_metric, model):\n",
    "        score = val_metric\n",
    "\n",
    "        if self.best_score is None:\n",
    "            self.best_score = score\n",
    "            self.save_checkpoint(val_metric, model)\n",
    "        elif score < self.best_score + self.delta:\n",
    "            self.counter += 1\n",
    "            if self.verbose:\n",
    "                print(f'EarlyStopping counter: {self.counter} out of {self.patience}')\n",
    "            if self.counter >= self.patience:\n",
    "                self.early_stop = True\n",
    "        else:\n",
    "            self.best_score = score\n",
    "            self.save_checkpoint(val_metric, model)\n",
    "            self.counter = 0\n",
    "    \n",
    "    def save_checkpoint(self, val_metric, model):\n",
    "        if self.verbose:\n",
    "            print(f'Validation {self.metric_name} improved ({self.best_score:.6f} --> {val_metric:.6f}).  Saving model ...')\n",
    "        os.makedirs(os.path.dirname('training_results/DNN/'), exist_ok=True)\n",
    "        torch.save(model.state_dict(), self.path)\n",
    "        self.best_score = val_metric"
   ]
  },
  {
   "cell_type": "code",
   "execution_count": 35,
   "id": "92df564f",
   "metadata": {},
   "outputs": [],
   "source": [
    "import numpy as np\n",
    "from sklearn.metrics import precision_recall_curve, auc, f1_score\n",
    "\n",
    "def get_max_f1_score(y_true, y_pred_proba):\n",
    "    precision, recall, thresholds = precision_recall_curve(y_true, y_pred_proba)\n",
    "    f1_scores = 2 * (precision * recall) / (precision + recall + 1e-10)\n",
    "    optimal_idx = np.argmax(f1_scores)\n",
    "    optimal_threshold = thresholds[optimal_idx]\n",
    "    max_f1 = np.max(f1_scores)\n",
    "    return max_f1, optimal_threshold"
   ]
  },
  {
   "cell_type": "code",
   "execution_count": null,
   "id": "6413e7a9",
   "metadata": {},
   "outputs": [
    {
     "name": "stderr",
     "output_type": "stream",
     "text": [
      "                                                                                                    \r"
     ]
    },
    {
     "name": "stdout",
     "output_type": "stream",
     "text": [
      "Fold 1 Train Epoch 1/10, Loss: 0.0058, ROC_AUC: 0.6634, PR_AUC: 0.0010, F1_Score: 0.0028 | Test Loss 0.0011, ROC_AUC: 0.8671, PR_AUC: 0.0355, F1_Score: 0.1246\n"
     ]
    },
    {
     "name": "stderr",
     "output_type": "stream",
     "text": [
      "                                                                                                    \r"
     ]
    },
    {
     "name": "stdout",
     "output_type": "stream",
     "text": [
      "Fold 1 Train Epoch 2/10, Loss: 0.0004, ROC_AUC: 0.9610, PR_AUC: 0.0492, F1_Score: 0.1066 | Test Loss 0.0010, ROC_AUC: 0.8790, PR_AUC: 0.1377, F1_Score: 0.2362\n"
     ]
    },
    {
     "name": "stderr",
     "output_type": "stream",
     "text": [
      "                                                                                                    \r"
     ]
    },
    {
     "name": "stdout",
     "output_type": "stream",
     "text": [
      "Fold 1 Train Epoch 3/10, Loss: 0.0003, ROC_AUC: 0.9774, PR_AUC: 0.1571, F1_Score: 0.2485 | Test Loss 0.0010, ROC_AUC: 0.8834, PR_AUC: 0.1670, F1_Score: 0.2816\n"
     ]
    },
    {
     "name": "stderr",
     "output_type": "stream",
     "text": [
      "                                                                                                    \r"
     ]
    },
    {
     "name": "stdout",
     "output_type": "stream",
     "text": [
      "Fold 1 Train Epoch 4/10, Loss: 0.0003, ROC_AUC: 0.9829, PR_AUC: 0.2250, F1_Score: 0.3098 | Test Loss 0.0010, ROC_AUC: 0.8843, PR_AUC: 0.1992, F1_Score: 0.3395\n"
     ]
    },
    {
     "name": "stderr",
     "output_type": "stream",
     "text": [
      "                                                                                                    \r"
     ]
    },
    {
     "name": "stdout",
     "output_type": "stream",
     "text": [
      "Fold 1 Train Epoch 5/10, Loss: 0.0003, ROC_AUC: 0.9870, PR_AUC: 0.2599, F1_Score: 0.3567 | Test Loss 0.0010, ROC_AUC: 0.8841, PR_AUC: 0.2229, F1_Score: 0.3589\n"
     ]
    },
    {
     "name": "stderr",
     "output_type": "stream",
     "text": [
      "                                                                                                    \r"
     ]
    },
    {
     "name": "stdout",
     "output_type": "stream",
     "text": [
      "Fold 1 Train Epoch 6/10, Loss: 0.0002, ROC_AUC: 0.9890, PR_AUC: 0.3055, F1_Score: 0.3854 | Test Loss 0.0010, ROC_AUC: 0.8832, PR_AUC: 0.2515, F1_Score: 0.3595\n"
     ]
    },
    {
     "name": "stderr",
     "output_type": "stream",
     "text": [
      "                                                                                                    \r"
     ]
    },
    {
     "name": "stdout",
     "output_type": "stream",
     "text": [
      "Fold 1 Train Epoch 7/10, Loss: 0.0002, ROC_AUC: 0.9907, PR_AUC: 0.3361, F1_Score: 0.4104 | Test Loss 0.0010, ROC_AUC: 0.8819, PR_AUC: 0.2689, F1_Score: 0.3720\n"
     ]
    },
    {
     "name": "stderr",
     "output_type": "stream",
     "text": [
      "                                                                                                    \r"
     ]
    },
    {
     "name": "stdout",
     "output_type": "stream",
     "text": [
      "Fold 1 Train Epoch 8/10, Loss: 0.0002, ROC_AUC: 0.9908, PR_AUC: 0.3394, F1_Score: 0.4095 | Test Loss 0.0010, ROC_AUC: 0.8847, PR_AUC: 0.2834, F1_Score: 0.3691\n"
     ]
    },
    {
     "name": "stderr",
     "output_type": "stream",
     "text": [
      "                                                                                                    \r"
     ]
    },
    {
     "name": "stdout",
     "output_type": "stream",
     "text": [
      "Fold 1 Train Epoch 9/10, Loss: 0.0002, ROC_AUC: 0.9923, PR_AUC: 0.3921, F1_Score: 0.4501 | Test Loss 0.0010, ROC_AUC: 0.8852, PR_AUC: 0.3096, F1_Score: 0.3903\n"
     ]
    },
    {
     "name": "stderr",
     "output_type": "stream",
     "text": [
      "                                                                                                    \r"
     ]
    },
    {
     "name": "stdout",
     "output_type": "stream",
     "text": [
      "Fold 1 Train Epoch 10/10, Loss: 0.0002, ROC_AUC: 0.9939, PR_AUC: 0.4126, F1_Score: 0.4631 | Test Loss 0.0010, ROC_AUC: 0.8856, PR_AUC: 0.3254, F1_Score: 0.3955\n"
     ]
    },
    {
     "data": {
      "image/png": "[encoded data removed]",
      "text/plain": [
       "<Figure size 1800x400 with 3 Axes>"
      ]
     },
     "metadata": {},
     "output_type": "display_data"
    },
    {
     "name": "stderr",
     "output_type": "stream",
     "text": [
      "                                                                                                    \r"
     ]
    },
    {
     "name": "stdout",
     "output_type": "stream",
     "text": [
      "Fold 2 Train Epoch 1/10, Loss: 0.0045, ROC_AUC: 0.7540, PR_AUC: 0.0025, F1_Score: 0.0076 | Test Loss 0.0007, ROC_AUC: 0.9312, PR_AUC: 0.1213, F1_Score: 0.2299\n"
     ]
    },
    {
     "name": "stderr",
     "output_type": "stream",
     "text": [
      "                                                                                                    \r"
     ]
    },
    {
     "name": "stdout",
     "output_type": "stream",
     "text": [
      "Fold 2 Train Epoch 2/10, Loss: 0.0005, ROC_AUC: 0.9140, PR_AUC: 0.1359, F1_Score: 0.2396 | Test Loss 0.0006, ROC_AUC: 0.9400, PR_AUC: 0.2288, F1_Score: 0.3431\n"
     ]
    },
    {
     "name": "stderr",
     "output_type": "stream",
     "text": [
      "                                                                                                    \r"
     ]
    },
    {
     "name": "stdout",
     "output_type": "stream",
     "text": [
      "Fold 2 Train Epoch 3/10, Loss: 0.0005, ROC_AUC: 0.9299, PR_AUC: 0.2137, F1_Score: 0.3170 | Test Loss 0.0006, ROC_AUC: 0.9434, PR_AUC: 0.3044, F1_Score: 0.4538\n"
     ]
    },
    {
     "name": "stderr",
     "output_type": "stream",
     "text": [
      "                                                                                                    \r"
     ]
    },
    {
     "name": "stdout",
     "output_type": "stream",
     "text": [
      "Fold 2 Train Epoch 4/10, Loss: 0.0004, ROC_AUC: 0.9435, PR_AUC: 0.2830, F1_Score: 0.3789 | Test Loss 0.0006, ROC_AUC: 0.9455, PR_AUC: 0.3688, F1_Score: 0.4817\n"
     ]
    },
    {
     "name": "stderr",
     "output_type": "stream",
     "text": [
      "                                                                                                    \r"
     ]
    },
    {
     "name": "stdout",
     "output_type": "stream",
     "text": [
      "Fold 2 Train Epoch 5/10, Loss: 0.0004, ROC_AUC: 0.9522, PR_AUC: 0.3315, F1_Score: 0.4147 | Test Loss 0.0006, ROC_AUC: 0.9468, PR_AUC: 0.4107, F1_Score: 0.4968\n"
     ]
    },
    {
     "name": "stderr",
     "output_type": "stream",
     "text": [
      "                                                                                                    \r"
     ]
    },
    {
     "name": "stdout",
     "output_type": "stream",
     "text": [
      "Fold 2 Train Epoch 6/10, Loss: 0.0004, ROC_AUC: 0.9604, PR_AUC: 0.3695, F1_Score: 0.4328 | Test Loss 0.0006, ROC_AUC: 0.9488, PR_AUC: 0.4359, F1_Score: 0.4985\n"
     ]
    },
    {
     "name": "stderr",
     "output_type": "stream",
     "text": [
      "                                                                                                    \r"
     ]
    },
    {
     "name": "stdout",
     "output_type": "stream",
     "text": [
      "Fold 2 Train Epoch 7/10, Loss: 0.0004, ROC_AUC: 0.9650, PR_AUC: 0.3972, F1_Score: 0.4428 | Test Loss 0.0006, ROC_AUC: 0.9494, PR_AUC: 0.4527, F1_Score: 0.5027\n"
     ]
    },
    {
     "name": "stderr",
     "output_type": "stream",
     "text": [
      "                                                                                                    \r"
     ]
    },
    {
     "name": "stdout",
     "output_type": "stream",
     "text": [
      "Fold 2 Train Epoch 8/10, Loss: 0.0004, ROC_AUC: 0.9717, PR_AUC: 0.4181, F1_Score: 0.4499 | Test Loss 0.0006, ROC_AUC: 0.9498, PR_AUC: 0.4652, F1_Score: 0.5133\n"
     ]
    },
    {
     "name": "stderr",
     "output_type": "stream",
     "text": [
      "                                                                                                    \r"
     ]
    },
    {
     "name": "stdout",
     "output_type": "stream",
     "text": [
      "Fold 2 Train Epoch 9/10, Loss: 0.0004, ROC_AUC: 0.9764, PR_AUC: 0.4377, F1_Score: 0.4631 | Test Loss 0.0006, ROC_AUC: 0.9511, PR_AUC: 0.4703, F1_Score: 0.5269\n"
     ]
    },
    {
     "name": "stderr",
     "output_type": "stream",
     "text": [
      "                                                                                                    \r"
     ]
    },
    {
     "name": "stdout",
     "output_type": "stream",
     "text": [
      "Fold 2 Train Epoch 10/10, Loss: 0.0004, ROC_AUC: 0.9806, PR_AUC: 0.4519, F1_Score: 0.4731 | Test Loss 0.0006, ROC_AUC: 0.9523, PR_AUC: 0.4825, F1_Score: 0.5361\n"
     ]
    },
    {
     "data": {
      "image/png": "[encoded data removed]",
      "text/plain": [
       "<Figure size 1800x400 with 3 Axes>"
      ]
     },
     "metadata": {},
     "output_type": "display_data"
    },
    {
     "name": "stderr",
     "output_type": "stream",
     "text": [
      "                                                                                                    \r"
     ]
    },
    {
     "name": "stdout",
     "output_type": "stream",
     "text": [
      "Fold 3 Train Epoch 1/10, Loss: 0.0025, ROC_AUC: 0.8420, PR_AUC: 0.0083, F1_Score: 0.0263 | Test Loss 0.0004, ROC_AUC: 0.9664, PR_AUC: 0.3519, F1_Score: 0.4234\n"
     ]
    },
    {
     "name": "stderr",
     "output_type": "stream",
     "text": [
      "                                                                                                    \r"
     ]
    },
    {
     "name": "stdout",
     "output_type": "stream",
     "text": [
      "Fold 3 Train Epoch 2/10, Loss: 0.0006, ROC_AUC: 0.9325, PR_AUC: 0.3737, F1_Score: 0.4275 | Test Loss 0.0003, ROC_AUC: 0.9712, PR_AUC: 0.4655, F1_Score: 0.5241\n"
     ]
    },
    {
     "name": "stderr",
     "output_type": "stream",
     "text": [
      "                                                                                                    \r"
     ]
    },
    {
     "name": "stdout",
     "output_type": "stream",
     "text": [
      "Fold 3 Train Epoch 3/10, Loss: 0.0006, ROC_AUC: 0.9463, PR_AUC: 0.4330, F1_Score: 0.4874 | Test Loss 0.0003, ROC_AUC: 0.9749, PR_AUC: 0.5083, F1_Score: 0.5697\n"
     ]
    },
    {
     "name": "stderr",
     "output_type": "stream",
     "text": [
      "                                                                                                    \r"
     ]
    },
    {
     "name": "stdout",
     "output_type": "stream",
     "text": [
      "Fold 3 Train Epoch 4/10, Loss: 0.0005, ROC_AUC: 0.9571, PR_AUC: 0.4642, F1_Score: 0.5133 | Test Loss 0.0003, ROC_AUC: 0.9768, PR_AUC: 0.5313, F1_Score: 0.6093\n"
     ]
    },
    {
     "name": "stderr",
     "output_type": "stream",
     "text": [
      "                                                                                                    \r"
     ]
    },
    {
     "name": "stdout",
     "output_type": "stream",
     "text": [
      "Fold 3 Train Epoch 5/10, Loss: 0.0005, ROC_AUC: 0.9662, PR_AUC: 0.4859, F1_Score: 0.5226 | Test Loss 0.0003, ROC_AUC: 0.9782, PR_AUC: 0.5445, F1_Score: 0.6114\n"
     ]
    },
    {
     "name": "stderr",
     "output_type": "stream",
     "text": [
      "                                                                                                    \r"
     ]
    },
    {
     "name": "stdout",
     "output_type": "stream",
     "text": [
      "Fold 3 Train Epoch 6/10, Loss: 0.0005, ROC_AUC: 0.9735, PR_AUC: 0.4997, F1_Score: 0.5320 | Test Loss 0.0003, ROC_AUC: 0.9799, PR_AUC: 0.5450, F1_Score: 0.6224\n"
     ]
    },
    {
     "name": "stderr",
     "output_type": "stream",
     "text": [
      "Fold 3 Testing Epoch 7/10:  72%|████████████████▍      | 5570560/7766016 [00:53<00:23, 94209.10it/s]"
     ]
    }
   ],
   "source": [
    "from tqdm import tqdm\n",
    "\n",
    "TRANSACTIONS_DIM = train_data[0].drop(columns=['Src', 'Dest', 'MCC_idx', 'Zip_idx', 'Date', 'isFraud']).shape[1]\n",
    "ZIP_EMB_DIM = 64\n",
    "MCC_EMB_DIM = 32\n",
    "NUM_ZIP_IDX = len(dataset.zip_to_idx)\n",
    "NUM_MCC_IDX = len(dataset.mcc_to_idx)\n",
    "final_metrics = {\n",
    "    'roc_auc': [],\n",
    "    'pr_auc': [],\n",
    "    'f1_score': []\n",
    "}\n",
    "\n",
    "for i in range(5):\n",
    "    model = DNN(transactions_dim=TRANSACTIONS_DIM,\n",
    "                zip_emb_dim=ZIP_EMB_DIM,\n",
    "                mcc_emb_dim=MCC_EMB_DIM,\n",
    "                num_zip_idx=NUM_ZIP_IDX,\n",
    "                num_mcc_idx=NUM_MCC_IDX)\n",
    "    \n",
    "    criterion = FocalLoss()\n",
    "    optimizer = torch.optim.AdamW(model.parameters(), lr=1e-3)\n",
    "\n",
    "    epochs = 10\n",
    "    batch_size = 16384\n",
    "\n",
    "    train_dataset = Dataset(train_data[i])\n",
    "    train_dataloader = torch.utils.data.DataLoader(train_dataset, batch_size=batch_size, shuffle=True)\n",
    "    test_dataset = Dataset(test_data[i])\n",
    "    test_dataloader = torch.utils.data.DataLoader(test_dataset, batch_size=batch_size, shuffle=False)\n",
    "    \n",
    "    early_stopping = EarlyStopping(patience=5, path=f'DNN/checkpoint_fold_{i+1}.pt', metric_name='val_pr_auc')\n",
    "\n",
    "    metrics = {\n",
    "        'train_loss': [], 'train_roc_auc': [], 'train_pr_auc': [], 'train_f1_score': [],\n",
    "        'val_loss': [], 'val_roc_auc': [], 'val_pr_auc': [], 'val_f1_score': []\n",
    "    }\n",
    "\n",
    "    for epoch in range(epochs):\n",
    "        model.train()\n",
    "        all_labels = []\n",
    "        all_outputs = []\n",
    "        with tqdm(total=len(train_dataloader)*batch_size, desc=f\"Fold {i+1} Training Epoch {epoch+1}/{epochs}\", ncols=100, leave=False) as pbar:\n",
    "            epoch_loss = 0.0\n",
    "            for transactions, mcc_idx, zip_idx, labels in train_dataloader:\n",
    "                optimizer.zero_grad()\n",
    "                outputs = model(transactions, zip_idx, mcc_idx)\n",
    "                loss_value = criterion(outputs, labels)\n",
    "                loss_value.backward()\n",
    "                optimizer.step()\n",
    "                epoch_loss += loss_value.item() * transactions.size(0)\n",
    "                all_labels.extend(labels.cpu().numpy())\n",
    "                all_outputs.extend(outputs.detach().cpu().numpy())\n",
    "                pbar.update(transactions.size(0))\n",
    "        epoch_loss /= len(train_dataloader.dataset)\n",
    "        metrics['train_loss'].append(epoch_loss)\n",
    "        # Convert to numpy arrays for stable metric computation\n",
    "        all_labels = np.array(all_labels).flatten()\n",
    "        all_outputs = np.array(all_outputs).flatten()\n",
    "        train_roc_auc = roc_auc_score(all_labels, all_outputs)\n",
    "        train_pr_auc = average_precision_score(all_labels, all_outputs)\n",
    "        train_f1_score, train_f1_threshold = get_max_f1_score(all_labels, all_outputs)\n",
    "        metrics['train_roc_auc'].append(train_roc_auc)\n",
    "        metrics['train_pr_auc'].append(train_pr_auc)\n",
    "        metrics['train_f1_score'].append(train_f1_score)\n",
    "        # print(f\"Fold {i+1} Train Epoch {epoch+1}/{epochs}, Loss: {epoch_loss:.4f}, ROC_AUC: {metrics['train_roc_auc'][-1]:.4f}, PR_AUC: {metrics['train_pr_auc'][-1]:.4f}, F1_Score: {metrics['train_f1_score'][-1]:.4f}\")\n",
    "\n",
    "        model.eval()\n",
    "        # Further evaluation on test data can be added here\n",
    "        with torch.no_grad():\n",
    "            all_labels = []\n",
    "            all_outputs = []\n",
    "            test_loss = 0.0\n",
    "            with tqdm(total=len(test_dataloader)*batch_size, desc=f\"Fold {i+1} Testing Epoch {epoch+1}/{epochs}\", ncols=100, leave=False) as pbar:\n",
    "                for transactions, mcc_idx, zip_idx, labels in test_dataloader:\n",
    "                    outputs = model(transactions, zip_idx, mcc_idx)\n",
    "                    loss_value = criterion(outputs, labels)\n",
    "                    test_loss += loss_value.item() * transactions.size(0)\n",
    "                    all_labels.extend(labels.cpu().numpy())\n",
    "                    all_outputs.extend(outputs.detach().cpu().numpy())\n",
    "                    pbar.update(transactions.size(0))\n",
    "            test_loss /= len(test_dataloader.dataset)\n",
    "            all_labels = np.array(all_labels).flatten()\n",
    "            all_outputs = np.array(all_outputs).flatten()\n",
    "            test_roc_auc = roc_auc_score(all_labels, all_outputs)\n",
    "            test_pr_auc = average_precision_score(all_labels, all_outputs)\n",
    "            # test_f1_score = f1_score(all_labels, all_outputs >= 0.5)\n",
    "            test_f1_score, test_f1_threshold = get_max_f1_score(all_labels, all_outputs)\n",
    "            metrics['val_loss'].append(test_loss)\n",
    "            metrics['val_roc_auc'].append(test_roc_auc)\n",
    "            metrics['val_pr_auc'].append(test_pr_auc)\n",
    "            metrics['val_f1_score'].append(test_f1_score)\n",
    "            # print(f\"Fold {i+1} Test Epoch {epoch+1}/{epochs}, Loss {test_loss:.4f}, ROC_AUC: {test_roc_auc:.4f}, PR_AUC: {test_pr_auc:.4f}, F1_Score: {test_f1_score:.4f}\")\n",
    "        print(f\"Fold {i+1} Train Epoch {epoch+1}/{epochs}, Loss: {epoch_loss:.4f}, ROC_AUC: {train_roc_auc:.4f}, PR_AUC: {train_pr_auc:.4f}, F1_Score: {train_f1_score:.4f}(th:{train_f1_threshold:.4f}) | Test Loss {test_loss:.4f}, ROC_AUC: {test_roc_auc:.4f}, PR_AUC: {test_pr_auc:.4f}, F1_Score: {test_f1_score:.4f}(th:{test_f1_threshold:.4f})\")\n",
    "        early_stopping(test_pr_auc, model)\n",
    "        if early_stopping.early_stop:\n",
    "            print(f\"Early stopping fold {i+1} at epoch {epoch+1}\")\n",
    "            break\n",
    "    plot_metrics(pd.DataFrame(metrics))\n",
    "    model.load_state_dict(torch.load(f'training_results/DNN/checkpoint_fold_{i+1}.pt'))\n",
    "    model.eval()\n",
    "\n",
    "    final_test_labels = []\n",
    "    final_test_outputs = []\n",
    "    with torch.no_grad():\n",
    "        with tqdm(total=len(test_dataloader)*batch_size, desc=f\"Fold {i+1} Final Testing\", ncols=100, leave=False) as pbar:\n",
    "            for transactions, mcc_idx, zip_idx, labels in test_dataloader:\n",
    "                outputs = model(transactions, zip_idx, mcc_idx).squeeze()\n",
    "                final_test_labels.extend(labels.cpu().numpy())\n",
    "                final_test_outputs.extend(outputs.detach().cpu().numpy())\n",
    "                pbar.update(transactions.size(0))\n",
    "    final_test_labels = np.array(final_test_labels).flatten()\n",
    "    final_test_outputs = np.array(final_test_outputs).flatten()\n",
    "    final_test_roc_auc = roc_auc_score(final_test_labels, final_test_outputs)\n",
    "    final_test_pr_auc = average_precision_score(final_test_labels, final_test_outputs)\n",
    "    final_test_f1_score = get_max_f1_score(final_test_labels, final_test_outputs)[0]\n",
    "    final_metrics['roc_auc'].append(final_test_roc_auc)\n",
    "    final_metrics['pr_auc'].append(final_test_pr_auc)\n",
    "    final_metrics['f1_score'].append(final_test_f1_score)\n",
    "\n",
    "    "
   ]
  },
  {
   "cell_type": "code",
   "execution_count": 34,
   "id": "baeb96f1",
   "metadata": {},
   "outputs": [
    {
     "data": {
      "text/plain": [
       "np.float32(0.38619372)"
      ]
     },
     "execution_count": 34,
     "metadata": {},
     "output_type": "execute_result"
    }
   ],
   "source": [
    "final_test_outputs.max()"
   ]
  },
  {
   "cell_type": "code",
   "execution_count": null,
   "id": "0c4247f8",
   "metadata": {},
   "outputs": [],
   "source": []
  }
 ],
 "metadata": {
  "kernelspec": {
   "display_name": "fraud",
   "language": "python",
   "name": "python3"
  },
  "language_info": {
   "codemirror_mode": {
    "name": "ipython",
    "version": 3
   },
   "file_extension": ".py",
   "mimetype": "text/x-python",
   "name": "python",
   "nbconvert_exporter": "python",
   "pygments_lexer": "ipython3",
   "version": "3.9.23"
  }
 },
 "nbformat": 4,
 "nbformat_minor": 5
}
